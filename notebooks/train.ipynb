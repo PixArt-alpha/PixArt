{
 "cells": [
  {
   "cell_type": "markdown",
   "id": "c423d2a1-475e-482e-b759-f16456fd6707",
   "metadata": {},
   "source": [
    "# Install"
   ]
  },
  {
   "cell_type": "code",
   "execution_count": null,
   "id": "0440d6a7-78b9-49e9-98a2-9a5ed75e1a2f",
   "metadata": {},
   "outputs": [],
   "source": [
    "!git clone https://github.com/kopyl/PixArt-alpha.git"
   ]
  },
  {
   "cell_type": "code",
   "execution_count": null,
   "id": "0abadf51-a7e3-4091-bb02-0bdd8d28fb73",
   "metadata": {},
   "outputs": [],
   "source": [
    "%cd PixArt-alpha"
   ]
  },
  {
   "cell_type": "code",
   "execution_count": null,
   "id": "4df1af24-f439-485d-a946-966dbf16c49b",
   "metadata": {
    "scrolled": true
   },
   "outputs": [],
   "source": [
    "!pip install torch==2.0.0+cu117 torchvision==0.15.1+cu117 torchaudio==2.0.1 --index-url https://download.pytorch.org/whl/cu117\n",
    "!pip install -r requirements.txt"
   ]
  },
  {
   "cell_type": "markdown",
   "id": "d44474fd-0b92-48fc-b4cf-142b59d3917c",
   "metadata": {},
   "source": [
    "## Download model"
   ]
  },
  {
   "cell_type": "code",
   "execution_count": null,
   "id": "06b1c1c9-f8b1-4719-8564-2383eac9ff28",
   "metadata": {},
   "outputs": [],
   "source": [
    "!python tools/download.py --model_names \"PixArt-XL-2-512x512.pth\""
   ]
  },
  {
   "cell_type": "markdown",
   "id": "f298a89c-d2a5-4da7-8304-c1390da0ba58",
   "metadata": {},
   "source": [
    "## Make dataset out of Hugginggface dataset"
   ]
  },
  {
   "cell_type": "code",
   "execution_count": null,
   "id": "e17b8883-0a5c-4fa3-a7d0-e8ee95e42027",
   "metadata": {},
   "outputs": [],
   "source": [
    "import os\n",
    "from tqdm.notebook import tqdm\n",
    "from datasets import load_dataset\n",
    "import json"
   ]
  },
  {
   "cell_type": "code",
   "execution_count": null,
   "id": "92957b2c-6765-48ee-9296-d6739066d74d",
   "metadata": {},
   "outputs": [],
   "source": [
    "dataset = load_dataset(\"lambdalabs/pokemon-blip-captions\")"
   ]
  },
  {
   "cell_type": "code",
   "execution_count": null,
   "id": "0095cdda-c31a-48ee-a115-076a5fc393c3",
   "metadata": {},
   "outputs": [],
   "source": [
    "root_dir = \"/workspace/pixart-pokemon\"\n",
    "images_dir = \"images\"\n",
    "captions_dir = \"captions\"\n",
    "\n",
    "images_dir_absolute = os.path.join(root_dir, images_dir)\n",
    "captions_dir_absolute = os.path.join(root_dir, captions_dir)\n",
    "\n",
    "if not os.path.exists(root_dir):\n",
    "    os.makedirs(os.path.join(root_dir, images_dir))\n",
    "\n",
    "if not os.path.exists(os.path.join(root_dir, images_dir)):\n",
    "    os.makedirs(os.path.join(root_dir, images_dir))\n",
    "if not os.path.exists(os.path.join(root_dir, captions_dir)):\n",
    "    os.makedirs(os.path.join(root_dir, captions_dir))\n",
    "\n",
    "image_format = \"png\"\n",
    "json_name = \"partition/data_info.json\"\n",
    "if not os.path.exists(os.path.join(root_dir, \"partition\")):\n",
    "    os.makedirs(os.path.join(root_dir, \"partition\"))\n",
    "\n",
    "absolute_json_name = os.path.join(root_dir, json_name)\n",
    "data_info = []\n",
    "\n",
    "order = 0\n",
    "for item in tqdm(dataset[\"train\"]): \n",
    "    image = item[\"image\"]\n",
    "    image.save(f\"{images_dir_absolute}/{order}.{image_format}\")\n",
    "    with open(f\"{captions_dir_absolute}/{order}.txt\", \"w\") as text_file:\n",
    "        text_file.write(item[\"text\"])\n",
    "    \n",
    "    width, height = 512, 512\n",
    "    ratio = 1\n",
    "    data_info.append({\n",
    "        \"height\": height,\n",
    "        \"width\": width,\n",
    "        \"ratio\": ratio,\n",
    "        \"path\": f\"images/{order}.{image_format}\",\n",
    "        \"prompt\": item[\"text\"],\n",
    "    })\n",
    "        \n",
    "    order += 1\n",
    "\n",
    "with open(absolute_json_name, \"w\") as json_file:\n",
    "    json.dump(data_info, json_file)"
   ]
  },
  {
   "cell_type": "markdown",
   "id": "25be1c03",
   "metadata": {},
   "source": [
    "## Extract features"
   ]
  },
  {
   "cell_type": "code",
   "execution_count": 6,
   "id": "9f07a4f5-1873-48bf-86d0-9304942de5d3",
   "metadata": {},
   "outputs": [
    {
     "name": "stdout",
     "output_type": "stream",
     "text": [
      "/usr/local/lib/python3.10/dist-packages/mmcv/__init__.py:20: UserWarning: On January 1, 2023, MMCV will release v2.0.0, in which it will remove components related to the training process and add a data transformation module. In addition, it will rename the package names mmcv to mmcv-lite and mmcv-full to mmcv. See https://github.com/open-mmlab/mmcv/blob/master/docs/en/compatibility.md for more details.\n",
      "  warnings.warn(\n",
      "Extracting Image Resolution 512\n",
      "/workspace/PixArt-alpha/output/pretrained_models/t5_ckpts/t5-v1_1-xxl\n",
      "You are using the default legacy behaviour of the <class 'transformers.models.t5.tokenization_t5.T5Tokenizer'>. This is expected, and simply means that the `legacy` (previous) behavior will be used so nothing changes for you. If you want to use the new behaviour, set `legacy=False`. This should only be set if you understand what it means, and thouroughly read the reason why this was added as explained in https://github.com/huggingface/transformers/pull/24565\n",
      "Loading checkpoint shards: 100%|██████████████████| 2/2 [01:08<00:00, 34.49s/it]\n",
      "100%|█████████████████████████████████████████| 833/833 [03:37<00:00,  3.82it/s]\n",
      "100%|█████████████████████████████████████████| 833/833 [19:33<00:00,  1.41s/it]\n"
     ]
    }
   ],
   "source": [
    "!python /workspace/PixArt-alpha/tools/extract_features.py \\\n",
    "    --json_path \"/workspace/pixart-pokemon/partition/data_info.json\" \\\n",
    "    --t5_save_root \"/workspace/pixart-pokemon/caption_feature_wmask\" \\\n",
    "    --vae_save_root \"/workspace/pixart-pokemon/img_vae_features\" \\\n",
    "    --pretrained_models_dir \"/workspace/PixArt-alpha/output/pretrained_models\" \\\n",
    "    --dataset_root \"/workspace/pixart-pokemon\""
   ]
  },
  {
   "cell_type": "markdown",
   "id": "2cf1fd1a",
   "metadata": {},
   "source": [
    "## Train model"
   ]
  },
  {
   "cell_type": "code",
   "execution_count": null,
   "id": "ea0e9dab-17bc-45ed-9c81-b670bbb8de47",
   "metadata": {},
   "outputs": [
    {
     "name": "stdout",
     "output_type": "stream",
     "text": [
      "Detected kernel version 5.4.0, which is below the recommended minimum of 5.5.0; this can cause the process to hang. It is recommended to upgrade the kernel to the minimum version or higher.\n",
      "2023-11-30 13:36:11,697 - PixArt - INFO - Config: \n",
      "data_root = '/workspace'\n",
      "data = dict(\n",
      "    type='InternalData',\n",
      "    root='/workspace/pixart-pokemon',\n",
      "    image_list_json=['data_info.json'],\n",
      "    transform='default_train',\n",
      "    load_vae_feat=True)\n",
      "image_size = 512\n",
      "train_batch_size = 38\n",
      "eval_batch_size = 16\n",
      "use_fsdp = False\n",
      "valid_num = 2000\n",
      "model = 'PixArt_XL_2'\n",
      "aspect_ratio_type = None\n",
      "multi_scale = False\n",
      "lewei_scale = 1.0\n",
      "num_workers = 10\n",
      "train_sampling_steps = 1000\n",
      "eval_sampling_steps = 200\n",
      "num_epochs = 200\n",
      "gradient_accumulation_steps = 1\n",
      "grad_checkpointing = True\n",
      "gradient_clip = 0.01\n",
      "gc_step = 1\n",
      "auto_lr = dict(rule='sqrt')\n",
      "optimizer = dict(type='AdamW', lr=2e-05, weight_decay=0.03, eps=1e-10)\n",
      "lr_schedule = 'constant'\n",
      "lr_schedule_args = dict(num_warmup_steps=1000)\n",
      "save_image_epochs = 1\n",
      "save_model_epochs = 1\n",
      "save_model_steps = 100\n",
      "sample_posterior = True\n",
      "mixed_precision = 'fp16'\n",
      "scale_factor = 0.18215\n",
      "ema_rate = 0.9999\n",
      "tensorboard_mox_interval = 50\n",
      "log_interval = 20\n",
      "cfg_scale = 4\n",
      "mask_type = 'null'\n",
      "num_group_tokens = 0\n",
      "mask_loss_coef = 0.0\n",
      "load_mask_index = False\n",
      "vae_pretrained = 'output/pretrained_models/sd-vae-ft-ema'\n",
      "load_from = '/workspace/PixArt-alpha/output/pretrained_models/PixArt-XL-2-512x512.pth'\n",
      "resume_from = dict(\n",
      "    checkpoint=None,\n",
      "    load_ema=False,\n",
      "    resume_optimizer=True,\n",
      "    resume_lr_scheduler=True)\n",
      "snr_loss = False\n",
      "work_dir = 'output/trained_model'\n",
      "s3_work_dir = None\n",
      "seed = 43\n",
      "image_list_json = ['data_info.json']\n",
      "window_block_indexes = []\n",
      "window_size = 0\n",
      "use_rel_pos = False\n",
      "fp32_attention = True\n",
      "\n",
      "2023-11-30 13:36:11,698 - PixArt - INFO - World_size: 1, seed: 43\n",
      "2023-11-30 13:36:11,698 - PixArt - INFO - Initializing: DDP for training\n",
      "2023-11-30 13:36:25,221 - PixArt - WARNING - lewei scale: (1.0,), base size: 32\n",
      "2023-11-30 13:36:25,324 - PixArt - INFO - PixArt Model Parameters: 610,856,096\n",
      "2023-11-30 13:38:13,021 - PixArt - INFO - Load checkpoint from /workspace/PixArt-alpha/output/pretrained_models/PixArt-XL-2-512x512.pth. Load ema: False.\n",
      "2023-11-30 13:38:13,328 - PixArt - WARNING - Missing keys: ['pos_embed']\n",
      "2023-11-30 13:38:13,328 - PixArt - WARNING - Unexpected keys: []\n",
      "2023-11-30 13:40:41,721 - PixArt - INFO - Constructing dataset InternalData...\n",
      "2023-11-30 13:40:41,926 - PixArt - INFO - Dataset InternalData constructed. time: 0.20 s, length (use/ori): 833/833\n",
      "2023-11-30 13:40:41,927 - PixArt - INFO - Automatically adapt lr to 0.00001 (using sqrt scaling rule).\n",
      "2023-11-30 13:40:41,968 - PixArt - INFO - Optimizer: total 435 param groups, 435 are learnable, 0 are fix. Lr group: 435 params with lr 0.00001; Weight decay group: 435 params with weight decay 0.03.\n",
      "2023-11-30 13:40:41,968 - PixArt - INFO - Lr schedule: constant, num_warmup_steps:1000.\n",
      "2023-11-30 13:40:51,478 - PixArt - INFO - Step/Epoch [1/1][1/22]:total_eta: 9:54:58, epoch_eta:0:02:50, time_all:0.406, time_data:0.150, lr:7.706e-09loss:0.0758, grad_norm:0.0433\n",
      "2023-11-30 13:42:01,510 - PixArt - INFO - Step/Epoch [20/1][20/22]:total_eta: 4:45:14, epoch_eta:0:00:07, time_all:3.502, time_data:0.003, lr:1.541e-07loss:0.0476, grad_norm:0.0350\n"
     ]
    }
   ],
   "source": [
    "!python -m torch.distributed.launch \\\n",
    "    train_scripts/train.py \\\n",
    "    /workspace/PixArt-alpha/notebooks/PixArt_xl2_img512_internal_for_pokemon_sample_training.py \\\n",
    "    --work-dir output/trained_model"
   ]
  }
 ],
 "metadata": {
  "kernelspec": {
   "display_name": "Python 3 (ipykernel)",
   "language": "python",
   "name": "python3"
  },
  "language_info": {
   "codemirror_mode": {
    "name": "ipython",
    "version": 3
   },
   "file_extension": ".py",
   "mimetype": "text/x-python",
   "name": "python",
   "nbconvert_exporter": "python",
   "pygments_lexer": "ipython3",
   "version": "3.10.12"
  }
 },
 "nbformat": 4,
 "nbformat_minor": 5
}
