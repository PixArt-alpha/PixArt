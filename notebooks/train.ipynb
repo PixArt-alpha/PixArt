{
 "cells": [
  {
   "cell_type": "markdown",
   "id": "c423d2a1-475e-482e-b759-f16456fd6707",
   "metadata": {},
   "source": [
    "# Install"
   ]
  },
  {
   "cell_type": "code",
   "execution_count": null,
   "id": "0440d6a7-78b9-49e9-98a2-9a5ed75e1a2f",
   "metadata": {},
   "outputs": [],
   "source": [
    "!git clone https://github.com/PixArt-alpha/PixArt-alpha.git"
   ]
  },
  {
   "cell_type": "code",
   "execution_count": null,
   "id": "0abadf51-a7e3-4091-bb02-0bdd8d28fb73",
   "metadata": {},
   "outputs": [],
   "source": [
    "%cd PixArt-alpha"
   ]
  },
  {
   "cell_type": "code",
   "execution_count": null,
   "id": "4df1af24-f439-485d-a946-966dbf16c49b",
   "metadata": {
    "scrolled": true
   },
   "outputs": [],
   "source": [
    "!pip install torch==2.0.0+cu117 torchvision==0.15.1+cu117 torchaudio==2.0.1 --index-url https://download.pytorch.org/whl/cu117\n",
    "!pip install -r requirements.txt"
   ]
  },
  {
   "cell_type": "markdown",
   "id": "d44474fd-0b92-48fc-b4cf-142b59d3917c",
   "metadata": {},
   "source": [
    "## Download model"
   ]
  },
  {
   "cell_type": "code",
   "execution_count": null,
   "id": "06b1c1c9-f8b1-4719-8564-2383eac9ff28",
   "metadata": {},
   "outputs": [],
   "source": [
    "!python tools/download.py --model_names \"PixArt-XL-2-512x512.pth\""
   ]
  },
  {
   "cell_type": "markdown",
   "id": "25be1c03",
   "metadata": {},
   "source": [
    "## Extract features"
   ]
  },
  {
   "cell_type": "code",
   "execution_count": null,
   "id": "9f07a4f5-1873-48bf-86d0-9304942de5d3",
   "metadata": {},
   "outputs": [],
   "source": [
    "!python /workspace/PixArt-alpha/tools/extract_features.py \\\n",
    "    --json_path \"/workspace/pixart-pokemon/data_info.json\" \\\n",
    "    --t5_save_root \"/workspace/pixart-pokemon/caption_feature_wmask\" \\\n",
    "    --vae_save_root \"/workspace/pixart-pokemon/img_vae_features\" \\\n",
    "    --pretrained_models_dir \"/workspace/PixArt-alpha/output/pretrained_models\" \\\n",
    "    --dataset_root \"/workspace/pixart-pokemon\""
   ]
  },
  {
   "cell_type": "markdown",
   "id": "2cf1fd1a",
   "metadata": {},
   "source": [
    "## Train model"
   ]
  },
  {
   "cell_type": "code",
   "execution_count": null,
   "id": "ea0e9dab-17bc-45ed-9c81-b670bbb8de47",
   "metadata": {},
   "outputs": [
    {
     "name": "stdout",
     "output_type": "stream",
     "text": [
      "Detected kernel version 5.4.0, which is below the recommended minimum of 5.5.0; this can cause the process to hang. It is recommended to upgrade the kernel to the minimum version or higher.\n",
      "2023-11-30 12:27:22,610 - PixArt - INFO - Config: \n",
      "data_root = '/workspace'\n",
      "data = dict(\n",
      "    type='InternalData',\n",
      "    root='/workspace/pixart-pokemon',\n",
      "    image_list_json=['data_info.json'],\n",
      "    transform='default_train',\n",
      "    load_vae_feat=True)\n",
      "image_size = 512\n",
      "train_batch_size = 38\n",
      "eval_batch_size = 16\n",
      "use_fsdp = False\n",
      "valid_num = 2000\n",
      "model = 'PixArt_XL_2'\n",
      "aspect_ratio_type = None\n",
      "multi_scale = False\n",
      "lewei_scale = 1.0\n",
      "num_workers = 10\n",
      "train_sampling_steps = 1000\n",
      "eval_sampling_steps = 200\n",
      "num_epochs = 200\n",
      "gradient_accumulation_steps = 1\n",
      "grad_checkpointing = True\n",
      "gradient_clip = 0.01\n",
      "gc_step = 1\n",
      "auto_lr = dict(rule='sqrt')\n",
      "optimizer = dict(type='AdamW', lr=2e-05, weight_decay=0.03, eps=1e-10)\n",
      "lr_schedule = 'constant'\n",
      "lr_schedule_args = dict(num_warmup_steps=1000)\n",
      "save_image_epochs = 1\n",
      "save_model_epochs = 1\n",
      "save_model_steps = 100\n",
      "sample_posterior = True\n",
      "mixed_precision = 'fp16'\n",
      "scale_factor = 0.18215\n",
      "ema_rate = 0.9999\n",
      "tensorboard_mox_interval = 50\n",
      "log_interval = 20\n",
      "cfg_scale = 4\n",
      "mask_type = 'null'\n",
      "num_group_tokens = 0\n",
      "mask_loss_coef = 0.0\n",
      "load_mask_index = False\n",
      "vae_pretrained = 'output/pretrained_models/sd-vae-ft-ema'\n",
      "load_from = '/workspace/PixArt-alpha/output/pretrained_models/PixArt-XL-2-512x512.pth'\n",
      "resume_from = dict(\n",
      "    checkpoint=None,\n",
      "    load_ema=False,\n",
      "    resume_optimizer=True,\n",
      "    resume_lr_scheduler=True)\n",
      "snr_loss = False\n",
      "work_dir = 'output/trained_model'\n",
      "s3_work_dir = None\n",
      "seed = 43\n",
      "image_list_json = ['data_info.json']\n",
      "window_block_indexes = []\n",
      "window_size = 0\n",
      "use_rel_pos = False\n",
      "fp32_attention = True\n",
      "\n",
      "2023-11-30 12:27:22,611 - PixArt - INFO - World_size: 1, seed: 43\n",
      "2023-11-30 12:27:22,611 - PixArt - INFO - Initializing: DDP for training\n",
      "2023-11-30 12:27:32,011 - PixArt - WARNING - lewei scale: (1.0,), base size: 32\n",
      "2023-11-30 12:27:32,020 - PixArt - INFO - PixArt Model Parameters: 610,856,096\n",
      "2023-11-30 12:27:48,713 - PixArt - INFO - Load checkpoint from /workspace/PixArt-alpha/output/pretrained_models/PixArt-XL-2-512x512.pth. Load ema: False.\n",
      "2023-11-30 12:27:48,887 - PixArt - WARNING - Missing keys: ['pos_embed']\n",
      "2023-11-30 12:27:48,887 - PixArt - WARNING - Unexpected keys: []\n",
      "2023-11-30 12:28:08,816 - PixArt - INFO - Constructing dataset InternalData...\n",
      "2023-11-30 12:28:08,828 - PixArt - INFO - Dataset InternalData constructed. time: 0.01 s, length (use/ori): 833/833\n",
      "2023-11-30 12:28:08,829 - PixArt - INFO - Automatically adapt lr to 0.00001 (using sqrt scaling rule).\n",
      "2023-11-30 12:28:08,873 - PixArt - INFO - Optimizer: total 435 param groups, 435 are learnable, 0 are fix. Lr group: 435 params with lr 0.00001; Weight decay group: 435 params with weight decay 0.03.\n",
      "2023-11-30 12:28:08,873 - PixArt - INFO - Lr schedule: constant, num_warmup_steps:1000.\n",
      "2023-11-30 12:28:19,388 - PixArt - INFO - Step/Epoch [1/1][1/22]:total_eta: 8:47:10, epoch_eta:0:02:31, time_all:0.360, time_data:0.096, lr:7.706e-09loss:0.0758, grad_norm:0.0432\n",
      "2023-11-30 12:29:25,750 - PixArt - INFO - Step/Epoch [20/1][20/22]:total_eta: 4:28:28, epoch_eta:0:00:07, time_all:3.318, time_data:0.010, lr:1.541e-07loss:0.0476, grad_norm:0.0350\n",
      "2023-11-30 12:29:47,212 - PixArt - INFO - Saved checkpoint of epoch 1 to output/trained_model/checkpoints/epoch_1_step_22.pth.\n",
      "2023-11-30 12:29:52,469 - PixArt - INFO - Step/Epoch [23/2][1/22]:total_eta: 5:18:02, epoch_eta:0:01:31, time_all:1.336, time_data:0.088, lr:1.772e-07loss:0.0490, grad_norm:0.0356\n"
     ]
    }
   ],
   "source": [
    "!python \\\n",
    "    scripts/train.py \\\n",
    "    /workspace/pixart-pokemon/PixArt_xl2_img512_internal.py \\\n",
    "    --work-dir output/trained_model"
   ]
  }
 ],
 "metadata": {
  "kernelspec": {
   "display_name": "Python 3 (ipykernel)",
   "language": "python",
   "name": "python3"
  },
  "language_info": {
   "codemirror_mode": {
    "name": "ipython",
    "version": 3
   },
   "file_extension": ".py",
   "mimetype": "text/x-python",
   "name": "python",
   "nbconvert_exporter": "python",
   "pygments_lexer": "ipython3",
   "version": "3.10.12"
  }
 },
 "nbformat": 4,
 "nbformat_minor": 5
}
